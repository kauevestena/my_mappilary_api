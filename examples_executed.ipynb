{
 "cells": [
  {
   "cell_type": "markdown",
   "metadata": {},
   "source": [
    "# Mapillary API Examples\n",
    "\n",
    "This notebook demonstrates how to use the Mapillary API to fetch street-level imagery data and visualize it on an interactive map using Folium.\n",
    "\n",
    "## Prerequisites\n",
    "\n",
    "- Mapillary API token (set as environment variable API_TOKEN or MAPPILLARY_API_TOKEN)\n",
    "- Required packages: geopandas, folium, requests, etc."
   ]
  },
  {
   "cell_type": "code",
   "execution_count": 1,
   "metadata": {
    "execution": {
     "iopub.execute_input": "2025-09-19T19:38:49.610302Z",
     "iopub.status.busy": "2025-09-19T19:38:49.610132Z",
     "iopub.status.idle": "2025-09-19T19:38:50.078874Z",
     "shell.execute_reply": "2025-09-19T19:38:50.078313Z"
    }
   },
   "outputs": [],
   "source": [
    "# Import required libraries\n",
    "import os\n",
    "import folium\n",
    "from mapillary_api import *\n",
    "import geopandas as gpd\n",
    "from shapely.geometry import Point\n",
    "import warnings\n",
    "warnings.filterwarnings('ignore')"
   ]
  },
  {
   "cell_type": "code",
   "execution_count": 2,
   "metadata": {
    "execution": {
     "iopub.execute_input": "2025-09-19T19:38:50.081175Z",
     "iopub.status.busy": "2025-09-19T19:38:50.080911Z",
     "iopub.status.idle": "2025-09-19T19:38:50.084641Z",
     "shell.execute_reply": "2025-09-19T19:38:50.084147Z"
    }
   },
   "outputs": [
    {
     "name": "stdout",
     "output_type": "stream",
     "text": [
      "⚠️  No API token found. Please set the API_TOKEN environment variable.\n",
      "   For GitHub Actions, this should be configured as a repository secret.\n"
     ]
    }
   ],
   "source": [
    "# Check if API token is available\n",
    "token = os.environ.get('API_TOKEN') or os.environ.get('MAPPILLARY_API_TOKEN') or get_mapillary_token()\n",
    "if not token:\n",
    "    print(\"⚠️  No API token found. Please set the API_TOKEN environment variable.\")\n",
    "    print(\"   For GitHub Actions, this should be configured as a repository secret.\")\n",
    "else:\n",
    "    print(\"✅ API token found and ready to use!\")\n",
    "    # Show partial token for verification (first 8 chars)\n",
    "    print(f\"   Token preview: {token[:8]}...\")"
   ]
  },
  {
   "cell_type": "markdown",
   "metadata": {},
   "source": [
    "## Example 1: Simple Area Query\n",
    "\n",
    "Let's fetch Mapillary images from a specific geographic area (using sample region if available)"
   ]
  },
  {
   "cell_type": "code",
   "execution_count": 3,
   "metadata": {
    "execution": {
     "iopub.execute_input": "2025-09-19T19:38:50.115317Z",
     "iopub.status.busy": "2025-09-19T19:38:50.115131Z",
     "iopub.status.idle": "2025-09-19T19:38:50.148583Z",
     "shell.execute_reply": "2025-09-19T19:38:50.148081Z"
    }
   },
   "outputs": [
    {
     "name": "stdout",
     "output_type": "stream",
     "text": [
      "Using sample region bounds: (-49.277848575951, -25.44461617379733, -49.27585315300058, -25.442756427067422)\n",
      "Center coordinates: (-25.443686300432375, -49.27685086447579)\n",
      "Bounding box: (-49.277848575951, -25.44461617379733, -49.27585315300058, -25.442756427067422)\n"
     ]
    }
   ],
   "source": [
    "# Try to use sample region if available, otherwise use a default location\n",
    "try:\n",
    "    # Load sample region from existing file\n",
    "    sample_region = gpd.read_file('sample_region.geojson')\n",
    "    bbox = sample_region.geometry[0].bounds\n",
    "    print(f\"Using sample region bounds: {bbox}\")\n",
    "    center_lat = (bbox[1] + bbox[3]) / 2\n",
    "    center_lon = (bbox[0] + bbox[2]) / 2\n",
    "except:\n",
    "    # Fallback to a default location (Curitiba, Brazil area)\n",
    "    print(\"Sample region not found, using default location (Curitiba, Brazil)\")\n",
    "    center_lat, center_lon = -25.4284, -49.2733\n",
    "    # Small area around the center\n",
    "    buffer = 0.005\n",
    "    bbox = (center_lon - buffer, center_lat - buffer, center_lon + buffer, center_lat + buffer)\n",
    "\n",
    "print(f\"Center coordinates: ({center_lat}, {center_lon})\")\n",
    "print(f\"Bounding box: {bbox}\")"
   ]
  },
  {
   "cell_type": "code",
   "execution_count": 4,
   "metadata": {
    "execution": {
     "iopub.execute_input": "2025-09-19T19:38:50.150349Z",
     "iopub.status.busy": "2025-09-19T19:38:50.150116Z",
     "iopub.status.idle": "2025-09-19T19:38:50.154669Z",
     "shell.execute_reply": "2025-09-19T19:38:50.154255Z"
    }
   },
   "outputs": [
    {
     "name": "stdout",
     "output_type": "stream",
     "text": [
      "Skipping data fetch - no API token available\n"
     ]
    }
   ],
   "source": [
    "# Fetch Mapillary image metadata for the area\n",
    "if token:\n",
    "    print(\"Fetching Mapillary image metadata...\")\n",
    "    try:\n",
    "        # Get metadata using the API\n",
    "        metadata = get_mapillary_images_metadata(\n",
    "            bbox[0], bbox[1], bbox[2], bbox[3], \n",
    "            token=token,\n",
    "            limit=100  # Limit for demonstration\n",
    "        )\n",
    "        \n",
    "        # Convert to GeoDataFrame\n",
    "        gdf = mapillary_data_to_gdf(metadata)\n",
    "        \n",
    "        print(f\"Found {len(gdf)} images in the area\")\n",
    "        if len(gdf) > 0:\n",
    "            print(\"First few records:\")\n",
    "            print(gdf[['captured_at', 'compass_angle', 'geometry']].head())\n",
    "        \n",
    "    except Exception as e:\n",
    "        print(f\"Error fetching data: {e}\")\n",
    "        # Create empty GeoDataFrame for demonstration\n",
    "        gdf = gpd.GeoDataFrame()\n",
    "else:\n",
    "    print(\"Skipping data fetch - no API token available\")\n",
    "    gdf = gpd.GeoDataFrame()"
   ]
  },
  {
   "cell_type": "markdown",
   "metadata": {},
   "source": [
    "## Example 2: Interactive Map Visualization with Folium\n",
    "\n",
    "Now let's create an interactive map showing the Mapillary image locations"
   ]
  },
  {
   "cell_type": "code",
   "execution_count": 5,
   "metadata": {
    "execution": {
     "iopub.execute_input": "2025-09-19T19:38:50.156311Z",
     "iopub.status.busy": "2025-09-19T19:38:50.156165Z",
     "iopub.status.idle": "2025-09-19T19:38:50.175394Z",
     "shell.execute_reply": "2025-09-19T19:38:50.174934Z"
    }
   },
   "outputs": [
    {
     "name": "stdout",
     "output_type": "stream",
     "text": [
      "No Mapillary data to display on map\n"
     ]
    },
    {
     "data": {
      "text/html": [
       "<div style=\"width:100%;\"><div style=\"position:relative;width:100%;height:0;padding-bottom:60%;\"><span style=\"color:#565656\">Make this Notebook Trusted to load map: File -> Trust Notebook</span><iframe srcdoc=\"&lt;!DOCTYPE html&gt;\n",
       "&lt;html&gt;\n",
       "&lt;head&gt;\n",
       "    \n",
       "    &lt;meta http-equiv=&quot;content-type&quot; content=&quot;text/html; charset=UTF-8&quot; /&gt;\n",
       "    &lt;script src=&quot;https://cdn.jsdelivr.net/npm/leaflet@1.9.3/dist/leaflet.js&quot;&gt;&lt;/script&gt;\n",
       "    &lt;script src=&quot;https://code.jquery.com/jquery-3.7.1.min.js&quot;&gt;&lt;/script&gt;\n",
       "    &lt;script src=&quot;https://cdn.jsdelivr.net/npm/bootstrap@5.2.2/dist/js/bootstrap.bundle.min.js&quot;&gt;&lt;/script&gt;\n",
       "    &lt;script src=&quot;https://cdnjs.cloudflare.com/ajax/libs/Leaflet.awesome-markers/2.0.2/leaflet.awesome-markers.js&quot;&gt;&lt;/script&gt;\n",
       "    &lt;link rel=&quot;stylesheet&quot; href=&quot;https://cdn.jsdelivr.net/npm/leaflet@1.9.3/dist/leaflet.css&quot;/&gt;\n",
       "    &lt;link rel=&quot;stylesheet&quot; href=&quot;https://cdn.jsdelivr.net/npm/bootstrap@5.2.2/dist/css/bootstrap.min.css&quot;/&gt;\n",
       "    &lt;link rel=&quot;stylesheet&quot; href=&quot;https://netdna.bootstrapcdn.com/bootstrap/3.0.0/css/bootstrap-glyphicons.css&quot;/&gt;\n",
       "    &lt;link rel=&quot;stylesheet&quot; href=&quot;https://cdn.jsdelivr.net/npm/@fortawesome/fontawesome-free@6.2.0/css/all.min.css&quot;/&gt;\n",
       "    &lt;link rel=&quot;stylesheet&quot; href=&quot;https://cdnjs.cloudflare.com/ajax/libs/Leaflet.awesome-markers/2.0.2/leaflet.awesome-markers.css&quot;/&gt;\n",
       "    &lt;link rel=&quot;stylesheet&quot; href=&quot;https://cdn.jsdelivr.net/gh/python-visualization/folium/folium/templates/leaflet.awesome.rotate.min.css&quot;/&gt;\n",
       "    \n",
       "            &lt;meta name=&quot;viewport&quot; content=&quot;width=device-width,\n",
       "                initial-scale=1.0, maximum-scale=1.0, user-scalable=no&quot; /&gt;\n",
       "            &lt;style&gt;\n",
       "                #map_054f030d13ed9bcd630c7939f1217cdc {\n",
       "                    position: relative;\n",
       "                    width: 100.0%;\n",
       "                    height: 100.0%;\n",
       "                    left: 0.0%;\n",
       "                    top: 0.0%;\n",
       "                }\n",
       "                .leaflet-container { font-size: 1rem; }\n",
       "            &lt;/style&gt;\n",
       "\n",
       "            &lt;style&gt;html, body {\n",
       "                width: 100%;\n",
       "                height: 100%;\n",
       "                margin: 0;\n",
       "                padding: 0;\n",
       "            }\n",
       "            &lt;/style&gt;\n",
       "\n",
       "            &lt;style&gt;#map {\n",
       "                position:absolute;\n",
       "                top:0;\n",
       "                bottom:0;\n",
       "                right:0;\n",
       "                left:0;\n",
       "                }\n",
       "            &lt;/style&gt;\n",
       "\n",
       "            &lt;script&gt;\n",
       "                L_NO_TOUCH = false;\n",
       "                L_DISABLE_3D = false;\n",
       "            &lt;/script&gt;\n",
       "\n",
       "        \n",
       "&lt;/head&gt;\n",
       "&lt;body&gt;\n",
       "    \n",
       "    \n",
       "             &lt;h3 align=&quot;center&quot; style=&quot;font-size:20px&quot;&gt;&lt;b&gt;Mapillary Images Visualization&lt;/b&gt;&lt;/h3&gt;\n",
       "             \n",
       "    \n",
       "            &lt;div class=&quot;folium-map&quot; id=&quot;map_054f030d13ed9bcd630c7939f1217cdc&quot; &gt;&lt;/div&gt;\n",
       "        \n",
       "&lt;/body&gt;\n",
       "&lt;script&gt;\n",
       "    \n",
       "    \n",
       "            var map_054f030d13ed9bcd630c7939f1217cdc = L.map(\n",
       "                &quot;map_054f030d13ed9bcd630c7939f1217cdc&quot;,\n",
       "                {\n",
       "                    center: [-25.443686300432375, -49.27685086447579],\n",
       "                    crs: L.CRS.EPSG3857,\n",
       "                    ...{\n",
       "  &quot;zoom&quot;: 15,\n",
       "  &quot;zoomControl&quot;: true,\n",
       "  &quot;preferCanvas&quot;: false,\n",
       "}\n",
       "\n",
       "                }\n",
       "            );\n",
       "\n",
       "            \n",
       "\n",
       "        \n",
       "    \n",
       "            var tile_layer_ad4d9b2cdc02abf4cb7b1c7ba1faabda = L.tileLayer(\n",
       "                &quot;https://tile.openstreetmap.org/{z}/{x}/{y}.png&quot;,\n",
       "                {\n",
       "  &quot;minZoom&quot;: 0,\n",
       "  &quot;maxZoom&quot;: 19,\n",
       "  &quot;maxNativeZoom&quot;: 19,\n",
       "  &quot;noWrap&quot;: false,\n",
       "  &quot;attribution&quot;: &quot;\\u0026copy; \\u003ca href=\\&quot;https://www.openstreetmap.org/copyright\\&quot;\\u003eOpenStreetMap\\u003c/a\\u003e contributors&quot;,\n",
       "  &quot;subdomains&quot;: &quot;abc&quot;,\n",
       "  &quot;detectRetina&quot;: false,\n",
       "  &quot;tms&quot;: false,\n",
       "  &quot;opacity&quot;: 1,\n",
       "}\n",
       "\n",
       "            );\n",
       "        \n",
       "    \n",
       "            tile_layer_ad4d9b2cdc02abf4cb7b1c7ba1faabda.addTo(map_054f030d13ed9bcd630c7939f1217cdc);\n",
       "        \n",
       "    \n",
       "            var marker_dbd24d56adb437ef62f478526c004b68 = L.marker(\n",
       "                [-25.443686300432375, -49.27685086447579],\n",
       "                {\n",
       "}\n",
       "            ).addTo(map_054f030d13ed9bcd630c7939f1217cdc);\n",
       "        \n",
       "    \n",
       "            var icon_7e07b8b4144f5b901e9533004ca2e190 = L.AwesomeMarkers.icon(\n",
       "                {\n",
       "  &quot;markerColor&quot;: &quot;red&quot;,\n",
       "  &quot;iconColor&quot;: &quot;white&quot;,\n",
       "  &quot;icon&quot;: &quot;info-sign&quot;,\n",
       "  &quot;prefix&quot;: &quot;glyphicon&quot;,\n",
       "  &quot;extraClasses&quot;: &quot;fa-rotate-0&quot;,\n",
       "}\n",
       "            );\n",
       "        \n",
       "    \n",
       "        var popup_5afbacb741dedfed7a50dea9c33df87c = L.popup({\n",
       "  &quot;maxWidth&quot;: &quot;100%&quot;,\n",
       "});\n",
       "\n",
       "        \n",
       "            \n",
       "                var html_0bd5ed17453adfa57e54c69282e54219 = $(`&lt;div id=&quot;html_0bd5ed17453adfa57e54c69282e54219&quot; style=&quot;width: 100.0%; height: 100.0%;&quot;&gt;Center Point&lt;/div&gt;`)[0];\n",
       "                popup_5afbacb741dedfed7a50dea9c33df87c.setContent(html_0bd5ed17453adfa57e54c69282e54219);\n",
       "            \n",
       "        \n",
       "\n",
       "        marker_dbd24d56adb437ef62f478526c004b68.bindPopup(popup_5afbacb741dedfed7a50dea9c33df87c)\n",
       "        ;\n",
       "\n",
       "        \n",
       "    \n",
       "    \n",
       "            marker_dbd24d56adb437ef62f478526c004b68.bindTooltip(\n",
       "                `&lt;div&gt;\n",
       "                     Query Center\n",
       "                 &lt;/div&gt;`,\n",
       "                {\n",
       "  &quot;sticky&quot;: true,\n",
       "}\n",
       "            );\n",
       "        \n",
       "    \n",
       "                marker_dbd24d56adb437ef62f478526c004b68.setIcon(icon_7e07b8b4144f5b901e9533004ca2e190);\n",
       "            \n",
       "    \n",
       "            var poly_line_2362fdd89a0b0f2f4403213741d5d948 = L.polyline(\n",
       "                [[-25.44461617379733, -49.277848575951], [-25.442756427067422, -49.277848575951], [-25.442756427067422, -49.27585315300058], [-25.44461617379733, -49.27585315300058], [-25.44461617379733, -49.277848575951]],\n",
       "                {&quot;bubblingMouseEvents&quot;: true, &quot;color&quot;: &quot;blue&quot;, &quot;dashArray&quot;: null, &quot;dashOffset&quot;: null, &quot;fill&quot;: false, &quot;fillColor&quot;: &quot;blue&quot;, &quot;fillOpacity&quot;: 0.2, &quot;fillRule&quot;: &quot;evenodd&quot;, &quot;lineCap&quot;: &quot;round&quot;, &quot;lineJoin&quot;: &quot;round&quot;, &quot;noClip&quot;: false, &quot;opacity&quot;: 0.8, &quot;smoothFactor&quot;: 1.0, &quot;stroke&quot;: true, &quot;weight&quot;: 2}\n",
       "            ).addTo(map_054f030d13ed9bcd630c7939f1217cdc);\n",
       "        \n",
       "    \n",
       "        var popup_6ca348e8bc344a9780241cc1e6dc4233 = L.popup({\n",
       "  &quot;maxWidth&quot;: &quot;100%&quot;,\n",
       "});\n",
       "\n",
       "        \n",
       "            \n",
       "                var html_28806f70e545c1dc006d5ec891301cb3 = $(`&lt;div id=&quot;html_28806f70e545c1dc006d5ec891301cb3&quot; style=&quot;width: 100.0%; height: 100.0%;&quot;&gt;Query Bounding Box&lt;/div&gt;`)[0];\n",
       "                popup_6ca348e8bc344a9780241cc1e6dc4233.setContent(html_28806f70e545c1dc006d5ec891301cb3);\n",
       "            \n",
       "        \n",
       "\n",
       "        poly_line_2362fdd89a0b0f2f4403213741d5d948.bindPopup(popup_6ca348e8bc344a9780241cc1e6dc4233)\n",
       "        ;\n",
       "\n",
       "        \n",
       "    \n",
       "&lt;/script&gt;\n",
       "&lt;/html&gt;\" style=\"position:absolute;width:100%;height:100%;left:0;top:0;border:none !important;\" allowfullscreen webkitallowfullscreen mozallowfullscreen></iframe></div></div>"
      ],
      "text/plain": [
       "<folium.folium.Map at 0x7fb468acc500>"
      ]
     },
     "execution_count": 5,
     "metadata": {},
     "output_type": "execute_result"
    }
   ],
   "source": [
    "# Create a Folium map centered on our area\n",
    "m = folium.Map(\n",
    "    location=[center_lat, center_lon],\n",
    "    zoom_start=15,\n",
    "    tiles='OpenStreetMap'\n",
    ")\n",
    "\n",
    "# Add a marker for the center point\n",
    "folium.Marker(\n",
    "    [center_lat, center_lon],\n",
    "    popup='Center Point',\n",
    "    tooltip='Query Center',\n",
    "    icon=folium.Icon(color='red', icon='info-sign')\n",
    ").add_to(m)\n",
    "\n",
    "# Add bounding box rectangle\n",
    "bbox_coords = [\n",
    "    [bbox[1], bbox[0]],  # SW corner\n",
    "    [bbox[3], bbox[0]],  # NW corner\n",
    "    [bbox[3], bbox[2]],  # NE corner\n",
    "    [bbox[1], bbox[2]],  # SE corner\n",
    "    [bbox[1], bbox[0]]   # Back to SW corner\n",
    "]\n",
    "\n",
    "folium.PolyLine(\n",
    "    bbox_coords,\n",
    "    color='blue',\n",
    "    weight=2,\n",
    "    opacity=0.8,\n",
    "    popup='Query Bounding Box'\n",
    ").add_to(m)\n",
    "\n",
    "# Add Mapillary image locations if we have data\n",
    "if len(gdf) > 0:\n",
    "    print(f\"Adding {len(gdf)} Mapillary image locations to the map...\")\n",
    "    \n",
    "    for idx, row in gdf.iterrows():\n",
    "        if hasattr(row.geometry, 'x') and hasattr(row.geometry, 'y'):\n",
    "            # Create popup with image information\n",
    "            popup_text = f\"\"\"\n",
    "            <b>Mapillary Image</b><br>\n",
    "            <b>ID:</b> {row.get('id', 'N/A')}<br>\n",
    "            <b>Captured:</b> {row.get('captured_at', 'N/A')}<br>\n",
    "            <b>Compass Angle:</b> {row.get('compass_angle', 'N/A')}°<br>\n",
    "            <b>Coordinates:</b> ({row.geometry.y:.5f}, {row.geometry.x:.5f})\n",
    "            \"\"\"\n",
    "            \n",
    "            folium.CircleMarker(\n",
    "                location=[row.geometry.y, row.geometry.x],\n",
    "                radius=3,\n",
    "                popup=folium.Popup(popup_text, max_width=300),\n",
    "                tooltip=f\"Mapillary Image {row.get('id', '')[:8]}...\",\n",
    "                color='green',\n",
    "                fillColor='lightgreen',\n",
    "                fillOpacity=0.7\n",
    "            ).add_to(m)\n",
    "else:\n",
    "    print(\"No Mapillary data to display on map\")\n",
    "\n",
    "# Add a title\n",
    "title_html = '''\n",
    "             <h3 align=\"center\" style=\"font-size:20px\"><b>Mapillary Images Visualization</b></h3>\n",
    "             '''\n",
    "m.get_root().html.add_child(folium.Element(title_html))\n",
    "\n",
    "# Display the map\n",
    "m"
   ]
  },
  {
   "cell_type": "markdown",
   "metadata": {},
   "source": [
    "## Example 3: Query by Place Name\n",
    "\n",
    "Let's try fetching data for a specific place using the territory polygon functionality"
   ]
  },
  {
   "cell_type": "code",
   "execution_count": 6,
   "metadata": {
    "execution": {
     "iopub.execute_input": "2025-09-19T19:38:50.177120Z",
     "iopub.status.busy": "2025-09-19T19:38:50.176921Z",
     "iopub.status.idle": "2025-09-19T19:38:50.184314Z",
     "shell.execute_reply": "2025-09-19T19:38:50.183842Z"
    }
   },
   "outputs": [
    {
     "name": "stdout",
     "output_type": "stream",
     "text": [
      "Trying to get polygon for: Água Verde, Curitiba, Brazil\n",
      "Error retrieving territory: HTTPSConnectionPool(host='nominatim.openstreetmap.org', port=443): Max retries exceeded with url: /search?q=%C3%81gua+Verde%2C+Curitiba%2C+Brazil&format=json&polygon_geojson=1 (Caused by NameResolutionError(\"<urllib3.connection.HTTPSConnection object at 0x7fb430b83a10>: Failed to resolve 'nominatim.openstreetmap.org' ([Errno -5] No address associated with hostname)\"))\n"
     ]
    }
   ],
   "source": [
    "# Query a specific place\n",
    "place_name = \"Água Verde, Curitiba, Brazil\"\n",
    "print(f\"Trying to get polygon for: {place_name}\")\n",
    "\n",
    "try:\n",
    "    # Get territory polygon\n",
    "    polygon_data = get_territory_polygon(place_name)\n",
    "    \n",
    "    if polygon_data:\n",
    "        print(\"✅ Successfully retrieved territory polygon\")\n",
    "        print(f\"Polygon type: {polygon_data['type']}\")\n",
    "        \n",
    "        # Create a simple map showing the territory\n",
    "        coords = polygon_data['coordinates'][0]\n",
    "        \n",
    "        # Calculate center\n",
    "        lats = [coord[1] for coord in coords]\n",
    "        lons = [coord[0] for coord in coords]\n",
    "        center_lat = sum(lats) / len(lats)\n",
    "        center_lon = sum(lons) / len(lons)\n",
    "        \n",
    "        # Create map\n",
    "        territory_map = folium.Map(\n",
    "            location=[center_lat, center_lon],\n",
    "            zoom_start=13\n",
    "        )\n",
    "        \n",
    "        # Add the polygon\n",
    "        folium.Polygon(\n",
    "            locations=[[coord[1], coord[0]] for coord in coords],\n",
    "            popup=f'Territory: {place_name}',\n",
    "            tooltip=place_name,\n",
    "            color='purple',\n",
    "            fillColor='lightpurple',\n",
    "            fillOpacity=0.3\n",
    "        ).add_to(territory_map)\n",
    "        \n",
    "        print(\"Territory map created successfully!\")\n",
    "        \n",
    "    else:\n",
    "        print(\"❌ Could not retrieve territory polygon\")\n",
    "        territory_map = None\n",
    "        \n",
    "except Exception as e:\n",
    "    print(f\"Error retrieving territory: {e}\")\n",
    "    territory_map = None"
   ]
  },
  {
   "cell_type": "code",
   "execution_count": 7,
   "metadata": {
    "execution": {
     "iopub.execute_input": "2025-09-19T19:38:50.185839Z",
     "iopub.status.busy": "2025-09-19T19:38:50.185675Z",
     "iopub.status.idle": "2025-09-19T19:38:50.188612Z",
     "shell.execute_reply": "2025-09-19T19:38:50.188196Z"
    }
   },
   "outputs": [
    {
     "name": "stdout",
     "output_type": "stream",
     "text": [
      "Territory map not available\n"
     ]
    }
   ],
   "source": [
    "# Display the territory map if available\n",
    "if 'territory_map' in locals() and territory_map is not None:\n",
    "    territory_map\n",
    "else:\n",
    "    print(\"Territory map not available\")"
   ]
  },
  {
   "cell_type": "markdown",
   "metadata": {},
   "source": [
    "## Summary\n",
    "\n",
    "This notebook demonstrates:\n",
    "\n",
    "1. **API Integration**: How to use the Mapillary API with environment variables for authentication\n",
    "2. **Data Fetching**: Retrieving street-level imagery metadata for specific geographic areas\n",
    "3. **Interactive Visualization**: Using Folium to create interactive maps showing:\n",
    "   - Query bounding boxes\n",
    "   - Mapillary image locations as clickable markers\n",
    "   - Territory polygons for named places\n",
    "4. **Error Handling**: Graceful fallbacks when API tokens or data are unavailable\n",
    "\n",
    "### Next Steps\n",
    "\n",
    "- Experiment with different geographic areas\n",
    "- Modify the query parameters (limit, fields, etc.)\n",
    "- Try the tiled querying functionality for larger areas\n",
    "- Download actual images using the `download_all_pictures_from_gdf` function\n",
    "\n",
    "### GitHub Actions Integration\n",
    "\n",
    "This notebook is designed to run in GitHub Actions with the `API_TOKEN` secret configured. The workflow will:\n",
    "- Execute all cells automatically\n",
    "- Generate updated visualizations\n",
    "- Commit the results back to the repository\n"
   ]
  }
 ],
 "metadata": {
  "kernelspec": {
   "display_name": "Python 3",
   "language": "python",
   "name": "python3"
  },
  "language_info": {
   "codemirror_mode": {
    "name": "ipython",
    "version": 3
   },
   "file_extension": ".py",
   "mimetype": "text/x-python",
   "name": "python",
   "nbconvert_exporter": "python",
   "pygments_lexer": "ipython3",
   "version": "3.12.3"
  }
 },
 "nbformat": 4,
 "nbformat_minor": 4
}
