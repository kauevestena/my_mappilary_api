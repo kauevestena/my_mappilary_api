{
 "cells": [
  {
   "cell_type": "markdown",
   "metadata": {},
   "source": [
    "# Mapillary API Examples\n",
    "\n",
    "This notebook demonstrates how to use the Mapillary API to fetch street-level imagery data and visualize it on an interactive map using Folium.\n",
    "\n",
    "## Prerequisites\n",
    "\n",
    "- Mapillary API token (set as environment variable API_TOKEN or MAPPILLARY_API_TOKEN)\n",
    "- Required packages: geopandas, folium, requests, etc."
   ]
  },
  {
   "cell_type": "code",
   "execution_count": 1,
   "metadata": {
    "execution": {
     "iopub.execute_input": "2025-10-06T00:41:12.963575Z",
     "iopub.status.busy": "2025-10-06T00:41:12.963382Z",
     "iopub.status.idle": "2025-10-06T00:41:13.975261Z",
     "shell.execute_reply": "2025-10-06T00:41:13.974691Z"
    }
   },
   "outputs": [],
   "source": [
    "# Import required libraries\n",
    "import os\n",
    "import folium\n",
    "from mapillary_api import *\n",
    "import geopandas as gpd\n",
    "from shapely.geometry import Point\n",
    "import warnings\n",
    "warnings.filterwarnings('ignore')"
   ]
  },
  {
   "cell_type": "code",
   "execution_count": 2,
   "metadata": {
    "execution": {
     "iopub.execute_input": "2025-10-06T00:41:13.977324Z",
     "iopub.status.busy": "2025-10-06T00:41:13.977072Z",
     "iopub.status.idle": "2025-10-06T00:41:13.980922Z",
     "shell.execute_reply": "2025-10-06T00:41:13.980355Z"
    }
   },
   "outputs": [
    {
     "name": "stdout",
     "output_type": "stream",
     "text": [
      "✅ API token found and ready to use!\n",
      "   Token preview: MLY|4036...\n"
     ]
    }
   ],
   "source": [
    "# Check if API token is available\n",
    "token = os.environ.get('API_TOKEN') or os.environ.get('MAPPILLARY_API_TOKEN') or get_mapillary_token()\n",
    "if not token:\n",
    "    print(\"⚠️  No API token found. Please set the API_TOKEN environment variable.\")\n",
    "    print(\"   For GitHub Actions, this should be configured as a repository secret.\")\n",
    "else:\n",
    "    print(\"✅ API token found and ready to use!\")\n",
    "    # Show partial token for verification (first 8 chars)\n",
    "    print(f\"   Token preview: {token[:8]}...\")"
   ]
  },
  {
   "cell_type": "markdown",
   "metadata": {},
   "source": [
    "## Example 1: Simple Area Query\n",
    "\n",
    "Let's fetch Mapillary images from a specific geographic area (using sample region if available)"
   ]
  },
  {
   "cell_type": "code",
   "execution_count": 3,
   "metadata": {
    "execution": {
     "iopub.execute_input": "2025-10-06T00:41:14.014771Z",
     "iopub.status.busy": "2025-10-06T00:41:14.014588Z",
     "iopub.status.idle": "2025-10-06T00:41:14.048483Z",
     "shell.execute_reply": "2025-10-06T00:41:14.047906Z"
    }
   },
   "outputs": [
    {
     "name": "stdout",
     "output_type": "stream",
     "text": [
      "Using sample region bounds: (-49.277848575951, -25.44461617379733, -49.27585315300058, -25.442756427067422)\n",
      "Center coordinates: (-25.443686300432375, -49.27685086447579)\n",
      "Bounding box: (-49.277848575951, -25.44461617379733, -49.27585315300058, -25.442756427067422)\n"
     ]
    }
   ],
   "source": [
    "# Try to use sample region if available, otherwise use a default location\n",
    "try:\n",
    "    # Load sample region from existing file\n",
    "    sample_region = gpd.read_file('sample_region.geojson')\n",
    "    bbox = sample_region.geometry[0].bounds\n",
    "    print(f\"Using sample region bounds: {bbox}\")\n",
    "    center_lat = (bbox[1] + bbox[3]) / 2\n",
    "    center_lon = (bbox[0] + bbox[2]) / 2\n",
    "except:\n",
    "    # Fallback to a default location (Curitiba, Brazil area)\n",
    "    print(\"Sample region not found, using default location (Curitiba, Brazil)\")\n",
    "    center_lat, center_lon = -25.4284, -49.2733\n",
    "    # Small area around the center\n",
    "    buffer = 0.005\n",
    "    bbox = (center_lon - buffer, center_lat - buffer, center_lon + buffer, center_lat + buffer)\n",
    "\n",
    "print(f\"Center coordinates: ({center_lat}, {center_lon})\")\n",
    "print(f\"Bounding box: {bbox}\")"
   ]
  },
  {
   "cell_type": "code",
   "execution_count": 4,
   "metadata": {
    "execution": {
     "iopub.execute_input": "2025-10-06T00:41:14.050300Z",
     "iopub.status.busy": "2025-10-06T00:41:14.050083Z",
     "iopub.status.idle": "2025-10-06T00:41:21.098076Z",
     "shell.execute_reply": "2025-10-06T00:41:21.097544Z"
    }
   },
   "outputs": [
    {
     "name": "stdout",
     "output_type": "stream",
     "text": [
      "Fetching Mapillary image metadata...\n"
     ]
    },
    {
     "name": "stdout",
     "output_type": "stream",
     "text": [
      "Found 1 images in the area\n",
      "First few records:\n",
      "     captured_at  compass_angle                     geometry\n",
      "0  1565978025000            333  POINT (-49.27589 -25.44276)\n"
     ]
    }
   ],
   "source": [
    "# Fetch Mapillary image metadata for the area\n",
    "if token:\n",
    "    print(\"Fetching Mapillary image metadata...\")\n",
    "    try:\n",
    "        # Get metadata using the API\n",
    "        metadata = get_mapillary_images_metadata(\n",
    "            bbox[0], bbox[1], bbox[2], bbox[3], \n",
    "            token=token,\n",
    "            limit=100  # Limit for demonstration\n",
    "        )\n",
    "        \n",
    "        # Convert to GeoDataFrame\n",
    "        gdf = mapillary_data_to_gdf(metadata)\n",
    "        \n",
    "        print(f\"Found {len(gdf)} images in the area\")\n",
    "        if len(gdf) > 0:\n",
    "            print(\"First few records:\")\n",
    "            print(gdf[['captured_at', 'compass_angle', 'geometry']].head())\n",
    "        \n",
    "    except Exception as e:\n",
    "        print(f\"Error fetching data: {e}\")\n",
    "        # Create empty GeoDataFrame for demonstration\n",
    "        gdf = gpd.GeoDataFrame()\n",
    "else:\n",
    "    print(\"Skipping data fetch - no API token available\")\n",
    "    gdf = gpd.GeoDataFrame()"
   ]
  },
  {
   "cell_type": "markdown",
   "metadata": {},
   "source": [
    "## Example 2: Interactive Map Visualization with Folium\n",
    "\n",
    "Now let's create an interactive map showing the Mapillary image locations.\n",
    "\n",
    "**Note:** The map uses direct HTML rendering to avoid Jupyter notebook trust issues. The map is also saved as an HTML file for external viewing."
   ]
  },
  {
   "cell_type": "code",
   "execution_count": 5,
   "metadata": {
    "execution": {
     "iopub.execute_input": "2025-10-06T00:41:21.099896Z",
     "iopub.status.busy": "2025-10-06T00:41:21.099728Z",
     "iopub.status.idle": "2025-10-06T00:41:21.130472Z",
     "shell.execute_reply": "2025-10-06T00:41:21.129953Z"
    }
   },
   "outputs": [
    {
     "name": "stdout",
     "output_type": "stream",
     "text": [
      "Adding 1 Mapillary image locations to the map...\n",
      "\n",
      "📋 Map saved to mapillary_visualization.html for external viewing\n"
     ]
    },
    {
     "data": {
      "text/html": [
       "<div style=\"height: 600px; border: 1px solid #ccc;\"><!DOCTYPE html>\n",
       "<html>\n",
       "<head>\n",
       "    \n",
       "    <meta http-equiv=\"content-type\" content=\"text/html; charset=UTF-8\" />\n",
       "    <script src=\"https://cdn.jsdelivr.net/npm/leaflet@1.9.3/dist/leaflet.js\"></script>\n",
       "    <script src=\"https://code.jquery.com/jquery-3.7.1.min.js\"></script>\n",
       "    <script src=\"https://cdn.jsdelivr.net/npm/bootstrap@5.2.2/dist/js/bootstrap.bundle.min.js\"></script>\n",
       "    <script src=\"https://cdnjs.cloudflare.com/ajax/libs/Leaflet.awesome-markers/2.0.2/leaflet.awesome-markers.js\"></script>\n",
       "    <link rel=\"stylesheet\" href=\"https://cdn.jsdelivr.net/npm/leaflet@1.9.3/dist/leaflet.css\"/>\n",
       "    <link rel=\"stylesheet\" href=\"https://cdn.jsdelivr.net/npm/bootstrap@5.2.2/dist/css/bootstrap.min.css\"/>\n",
       "    <link rel=\"stylesheet\" href=\"https://netdna.bootstrapcdn.com/bootstrap/3.0.0/css/bootstrap-glyphicons.css\"/>\n",
       "    <link rel=\"stylesheet\" href=\"https://cdn.jsdelivr.net/npm/@fortawesome/fontawesome-free@6.2.0/css/all.min.css\"/>\n",
       "    <link rel=\"stylesheet\" href=\"https://cdnjs.cloudflare.com/ajax/libs/Leaflet.awesome-markers/2.0.2/leaflet.awesome-markers.css\"/>\n",
       "    <link rel=\"stylesheet\" href=\"https://cdn.jsdelivr.net/gh/python-visualization/folium/folium/templates/leaflet.awesome.rotate.min.css\"/>\n",
       "    \n",
       "            <meta name=\"viewport\" content=\"width=device-width,\n",
       "                initial-scale=1.0, maximum-scale=1.0, user-scalable=no\" />\n",
       "            <style>\n",
       "                #map_40443b699aea1fa914c9e256833eee47 {\n",
       "                    position: relative;\n",
       "                    width: 100.0%;\n",
       "                    height: 100.0%;\n",
       "                    left: 0.0%;\n",
       "                    top: 0.0%;\n",
       "                }\n",
       "                .leaflet-container { font-size: 1rem; }\n",
       "            </style>\n",
       "\n",
       "            <style>html, body {\n",
       "                width: 100%;\n",
       "                height: 100%;\n",
       "                margin: 0;\n",
       "                padding: 0;\n",
       "            }\n",
       "            </style>\n",
       "\n",
       "            <style>#map {\n",
       "                position:absolute;\n",
       "                top:0;\n",
       "                bottom:0;\n",
       "                right:0;\n",
       "                left:0;\n",
       "                }\n",
       "            </style>\n",
       "\n",
       "            <script>\n",
       "                L_NO_TOUCH = false;\n",
       "                L_DISABLE_3D = false;\n",
       "            </script>\n",
       "\n",
       "        \n",
       "</head>\n",
       "<body>\n",
       "    \n",
       "    \n",
       "             <h3 align=\"center\" style=\"font-size:20px\"><b>Mapillary Images Visualization</b></h3>\n",
       "             \n",
       "    \n",
       "            <div class=\"folium-map\" id=\"map_40443b699aea1fa914c9e256833eee47\" ></div>\n",
       "        \n",
       "</body>\n",
       "<script>\n",
       "    \n",
       "    \n",
       "            var map_40443b699aea1fa914c9e256833eee47 = L.map(\n",
       "                \"map_40443b699aea1fa914c9e256833eee47\",\n",
       "                {\n",
       "                    center: [-25.443686300432375, -49.27685086447579],\n",
       "                    crs: L.CRS.EPSG3857,\n",
       "                    ...{\n",
       "  \"zoom\": 15,\n",
       "  \"zoomControl\": true,\n",
       "  \"preferCanvas\": false,\n",
       "}\n",
       "\n",
       "                }\n",
       "            );\n",
       "\n",
       "            \n",
       "\n",
       "        \n",
       "    \n",
       "            var tile_layer_7ecc3ddfea03054f17833a04ff69a51d = L.tileLayer(\n",
       "                \"https://tile.openstreetmap.org/{z}/{x}/{y}.png\",\n",
       "                {\n",
       "  \"minZoom\": 0,\n",
       "  \"maxZoom\": 19,\n",
       "  \"maxNativeZoom\": 19,\n",
       "  \"noWrap\": false,\n",
       "  \"attribution\": \"\\u0026copy; \\u003ca href=\\\"https://www.openstreetmap.org/copyright\\\"\\u003eOpenStreetMap\\u003c/a\\u003e contributors\",\n",
       "  \"subdomains\": \"abc\",\n",
       "  \"detectRetina\": false,\n",
       "  \"tms\": false,\n",
       "  \"opacity\": 1,\n",
       "}\n",
       "\n",
       "            );\n",
       "        \n",
       "    \n",
       "            tile_layer_7ecc3ddfea03054f17833a04ff69a51d.addTo(map_40443b699aea1fa914c9e256833eee47);\n",
       "        \n",
       "    \n",
       "            var marker_5843fd692491792f8799c0c7c4fca218 = L.marker(\n",
       "                [-25.443686300432375, -49.27685086447579],\n",
       "                {\n",
       "}\n",
       "            ).addTo(map_40443b699aea1fa914c9e256833eee47);\n",
       "        \n",
       "    \n",
       "            var icon_74e2f179c0d3f6d0113809f884cfca70 = L.AwesomeMarkers.icon(\n",
       "                {\n",
       "  \"markerColor\": \"red\",\n",
       "  \"iconColor\": \"white\",\n",
       "  \"icon\": \"info-sign\",\n",
       "  \"prefix\": \"glyphicon\",\n",
       "  \"extraClasses\": \"fa-rotate-0\",\n",
       "}\n",
       "            );\n",
       "        \n",
       "    \n",
       "        var popup_e86841da354a350c36e2be1a4b98b4f9 = L.popup({\n",
       "  \"maxWidth\": \"100%\",\n",
       "});\n",
       "\n",
       "        \n",
       "            \n",
       "                var html_c56f2af4620969cc5d196bac6ec7dae0 = $(`<div id=\"html_c56f2af4620969cc5d196bac6ec7dae0\" style=\"width: 100.0%; height: 100.0%;\">Center Point</div>`)[0];\n",
       "                popup_e86841da354a350c36e2be1a4b98b4f9.setContent(html_c56f2af4620969cc5d196bac6ec7dae0);\n",
       "            \n",
       "        \n",
       "\n",
       "        marker_5843fd692491792f8799c0c7c4fca218.bindPopup(popup_e86841da354a350c36e2be1a4b98b4f9)\n",
       "        ;\n",
       "\n",
       "        \n",
       "    \n",
       "    \n",
       "            marker_5843fd692491792f8799c0c7c4fca218.bindTooltip(\n",
       "                `<div>\n",
       "                     Query Center\n",
       "                 </div>`,\n",
       "                {\n",
       "  \"sticky\": true,\n",
       "}\n",
       "            );\n",
       "        \n",
       "    \n",
       "                marker_5843fd692491792f8799c0c7c4fca218.setIcon(icon_74e2f179c0d3f6d0113809f884cfca70);\n",
       "            \n",
       "    \n",
       "            var poly_line_1b4ca655d7f87bd76f94d8ba11f1ea48 = L.polyline(\n",
       "                [[-25.44461617379733, -49.277848575951], [-25.442756427067422, -49.277848575951], [-25.442756427067422, -49.27585315300058], [-25.44461617379733, -49.27585315300058], [-25.44461617379733, -49.277848575951]],\n",
       "                {\"bubblingMouseEvents\": true, \"color\": \"blue\", \"dashArray\": null, \"dashOffset\": null, \"fill\": false, \"fillColor\": \"blue\", \"fillOpacity\": 0.2, \"fillRule\": \"evenodd\", \"lineCap\": \"round\", \"lineJoin\": \"round\", \"noClip\": false, \"opacity\": 0.8, \"smoothFactor\": 1.0, \"stroke\": true, \"weight\": 2}\n",
       "            ).addTo(map_40443b699aea1fa914c9e256833eee47);\n",
       "        \n",
       "    \n",
       "        var popup_6bcf565a16b29b8ec94fac3afe0a6485 = L.popup({\n",
       "  \"maxWidth\": \"100%\",\n",
       "});\n",
       "\n",
       "        \n",
       "            \n",
       "                var html_1fe94326fee2b8bf1dc4c914584e9855 = $(`<div id=\"html_1fe94326fee2b8bf1dc4c914584e9855\" style=\"width: 100.0%; height: 100.0%;\">Query Bounding Box</div>`)[0];\n",
       "                popup_6bcf565a16b29b8ec94fac3afe0a6485.setContent(html_1fe94326fee2b8bf1dc4c914584e9855);\n",
       "            \n",
       "        \n",
       "\n",
       "        poly_line_1b4ca655d7f87bd76f94d8ba11f1ea48.bindPopup(popup_6bcf565a16b29b8ec94fac3afe0a6485)\n",
       "        ;\n",
       "\n",
       "        \n",
       "    \n",
       "    \n",
       "            var circle_marker_fe1ebfe806b3475240e6e03f11730d42 = L.circleMarker(\n",
       "                [-25.442761111111, -49.275891666667],\n",
       "                {\"bubblingMouseEvents\": true, \"color\": \"green\", \"dashArray\": null, \"dashOffset\": null, \"fill\": true, \"fillColor\": \"lightgreen\", \"fillOpacity\": 0.7, \"fillRule\": \"evenodd\", \"lineCap\": \"round\", \"lineJoin\": \"round\", \"opacity\": 1.0, \"radius\": 3, \"stroke\": true, \"weight\": 3}\n",
       "            ).addTo(map_40443b699aea1fa914c9e256833eee47);\n",
       "        \n",
       "    \n",
       "        var popup_16b269af37443c33ecb9f30a6c134666 = L.popup({\n",
       "  \"maxWidth\": 300,\n",
       "});\n",
       "\n",
       "        \n",
       "            \n",
       "                var html_b149895e375288c9c579d51d8df32e08 = $(`<div id=\"html_b149895e375288c9c579d51d8df32e08\" style=\"width: 100.0%; height: 100.0%;\">             <b>Mapillary Image</b><br>             <b>ID:</b> 1016076372550534<br>             <b>Captured:</b> 1565978025000<br>             <b>Compass Angle:</b> 333°<br>             <b>Coordinates:</b> (-25.44276, -49.27589)             </div>`)[0];\n",
       "                popup_16b269af37443c33ecb9f30a6c134666.setContent(html_b149895e375288c9c579d51d8df32e08);\n",
       "            \n",
       "        \n",
       "\n",
       "        circle_marker_fe1ebfe806b3475240e6e03f11730d42.bindPopup(popup_16b269af37443c33ecb9f30a6c134666)\n",
       "        ;\n",
       "\n",
       "        \n",
       "    \n",
       "    \n",
       "            circle_marker_fe1ebfe806b3475240e6e03f11730d42.bindTooltip(\n",
       "                `<div>\n",
       "                     Mapillary Image 10160763...\n",
       "                 </div>`,\n",
       "                {\n",
       "  \"sticky\": true,\n",
       "}\n",
       "            );\n",
       "        \n",
       "    \n",
       "            tile_layer_7ecc3ddfea03054f17833a04ff69a51d.addTo(map_40443b699aea1fa914c9e256833eee47);\n",
       "        \n",
       "    \n",
       "                marker_5843fd692491792f8799c0c7c4fca218.setIcon(icon_74e2f179c0d3f6d0113809f884cfca70);\n",
       "            \n",
       "</script>\n",
       "</html></div>"
      ],
      "text/plain": [
       "<IPython.core.display.HTML object>"
      ]
     },
     "execution_count": 5,
     "metadata": {},
     "output_type": "execute_result"
    }
   ],
   "source": [
    "# Create a Folium map centered on our area\n",
    "m = folium.Map(\n",
    "    location=[center_lat, center_lon],\n",
    "    zoom_start=15,\n",
    "    tiles='OpenStreetMap'\n",
    ")\n",
    "\n",
    "# Add a marker for the center point\n",
    "folium.Marker(\n",
    "    [center_lat, center_lon],\n",
    "    popup='Center Point',\n",
    "    tooltip='Query Center',\n",
    "    icon=folium.Icon(color='red', icon='info-sign')\n",
    ").add_to(m)\n",
    "\n",
    "# Add bounding box rectangle\n",
    "bbox_coords = [\n",
    "    [bbox[1], bbox[0]],  # SW corner\n",
    "    [bbox[3], bbox[0]],  # NW corner\n",
    "    [bbox[3], bbox[2]],  # NE corner\n",
    "    [bbox[1], bbox[2]],  # SE corner\n",
    "    [bbox[1], bbox[0]]   # Back to SW corner\n",
    "]\n",
    "\n",
    "folium.PolyLine(\n",
    "    bbox_coords,\n",
    "    color='blue',\n",
    "    weight=2,\n",
    "    opacity=0.8,\n",
    "    popup='Query Bounding Box'\n",
    ").add_to(m)\n",
    "\n",
    "# Add Mapillary image locations if we have data\n",
    "if len(gdf) > 0:\n",
    "    print(f\"Adding {len(gdf)} Mapillary image locations to the map...\")\n",
    "    \n",
    "    for idx, row in gdf.iterrows():\n",
    "        if hasattr(row.geometry, 'x') and hasattr(row.geometry, 'y'):\n",
    "            # Create popup with image information\n",
    "            popup_text = f\"\"\"\n",
    "            <b>Mapillary Image</b><br>\n",
    "            <b>ID:</b> {row.get('id', 'N/A')}<br>\n",
    "            <b>Captured:</b> {row.get('captured_at', 'N/A')}<br>\n",
    "            <b>Compass Angle:</b> {row.get('compass_angle', 'N/A')}°<br>\n",
    "            <b>Coordinates:</b> ({row.geometry.y:.5f}, {row.geometry.x:.5f})\n",
    "            \"\"\"\n",
    "            \n",
    "            folium.CircleMarker(\n",
    "                location=[row.geometry.y, row.geometry.x],\n",
    "                radius=3,\n",
    "                popup=folium.Popup(popup_text, max_width=300),\n",
    "                tooltip=f\"Mapillary Image {row.get('id', '')[:8]}...\",\n",
    "                color='green',\n",
    "                fillColor='lightgreen',\n",
    "                fillOpacity=0.7\n",
    "            ).add_to(m)\n",
    "else:\n",
    "    print(\"No Mapillary data to display on map\")\n",
    "\n",
    "# Add a title\n",
    "title_html = '''\n",
    "             <h3 align=\"center\" style=\"font-size:20px\"><b>Mapillary Images Visualization</b></h3>\n",
    "             '''\n",
    "m.get_root().html.add_child(folium.Element(title_html))\n",
    "\n",
    "# Save the map to an HTML file for external viewing\n",
    "map_filename = 'mapillary_visualization.html'\n",
    "m.save(map_filename)\n",
    "print(f\"\\n📋 Map saved to {map_filename} for external viewing\")\n",
    "\n",
    "# Display the map using direct HTML rendering to avoid iframe trust issues\n",
    "from IPython.display import HTML\n",
    "HTML(f'<div style=\"height: 600px; border: 1px solid #ccc;\">{m.get_root().render()}</div>')"
   ]
  },
  {
   "cell_type": "markdown",
   "metadata": {},
   "source": [
    "## Example 3: Query by Place Name\n",
    "\n",
    "Let's try fetching data for a specific place using the territory polygon functionality"
   ]
  },
  {
   "cell_type": "code",
   "execution_count": 6,
   "metadata": {
    "execution": {
     "iopub.execute_input": "2025-10-06T00:41:21.132154Z",
     "iopub.status.busy": "2025-10-06T00:41:21.131991Z",
     "iopub.status.idle": "2025-10-06T00:41:21.589704Z",
     "shell.execute_reply": "2025-10-06T00:41:21.589142Z"
    }
   },
   "outputs": [
    {
     "name": "stdout",
     "output_type": "stream",
     "text": [
      "Trying to get polygon for: Água Verde, Curitiba, Brazil\n"
     ]
    },
    {
     "name": "stdout",
     "output_type": "stream",
     "text": [
      "Error retrieving territory: Failed to fetch territory data from Nominatim API: 403 Client Error: Forbidden for url: https://nominatim.openstreetmap.org/search?q=%C3%81gua+Verde%2C+Curitiba%2C+Brazil&format=json&polygon_geojson=1\n"
     ]
    }
   ],
   "source": [
    "# Query a specific place\n",
    "place_name = \"Água Verde, Curitiba, Brazil\"\n",
    "print(f\"Trying to get polygon for: {place_name}\")\n",
    "\n",
    "try:\n",
    "    # Get territory polygon\n",
    "    polygon_data = get_territory_polygon(place_name)\n",
    "    \n",
    "    if polygon_data:\n",
    "        print(\"✅ Successfully retrieved territory polygon\")\n",
    "        print(f\"Polygon type: {polygon_data['type']}\")\n",
    "        \n",
    "        # Create a simple map showing the territory\n",
    "        coords = polygon_data['coordinates'][0]\n",
    "        \n",
    "        # Calculate center\n",
    "        lats = [coord[1] for coord in coords]\n",
    "        lons = [coord[0] for coord in coords]\n",
    "        center_lat = sum(lats) / len(lats)\n",
    "        center_lon = sum(lons) / len(lons)\n",
    "        \n",
    "        # Create map\n",
    "        territory_map = folium.Map(\n",
    "            location=[center_lat, center_lon],\n",
    "            zoom_start=13\n",
    "        )\n",
    "        \n",
    "        # Add the polygon\n",
    "        folium.Polygon(\n",
    "            locations=[[coord[1], coord[0]] for coord in coords],\n",
    "            popup=f'Territory: {place_name}',\n",
    "            tooltip=place_name,\n",
    "            color='purple',\n",
    "            fillColor='lightpurple',\n",
    "            fillOpacity=0.3\n",
    "        ).add_to(territory_map)\n",
    "        \n",
    "        print(\"Territory map created successfully!\")\n",
    "        \n",
    "    else:\n",
    "        print(\"❌ Could not retrieve territory polygon\")\n",
    "        territory_map = None\n",
    "        \n",
    "except Exception as e:\n",
    "    print(f\"Error retrieving territory: {e}\")\n",
    "    territory_map = None"
   ]
  },
  {
   "cell_type": "code",
   "execution_count": 7,
   "metadata": {
    "execution": {
     "iopub.execute_input": "2025-10-06T00:41:21.591526Z",
     "iopub.status.busy": "2025-10-06T00:41:21.591341Z",
     "iopub.status.idle": "2025-10-06T00:41:21.594459Z",
     "shell.execute_reply": "2025-10-06T00:41:21.593990Z"
    }
   },
   "outputs": [
    {
     "name": "stdout",
     "output_type": "stream",
     "text": [
      "Territory map not available\n"
     ]
    }
   ],
   "source": [
    "# Display the territory map if available\n",
    "if 'territory_map' in locals() and territory_map is not None:\n",
    "    territory_map\n",
    "else:\n",
    "    print(\"Territory map not available\")"
   ]
  },
  {
   "cell_type": "markdown",
   "metadata": {},
   "source": [
    "## Summary\n",
    "\n",
    "This notebook demonstrates:\n",
    "\n",
    "1. **API Integration**: How to use the Mapillary API with environment variables for authentication\n",
    "2. **Data Fetching**: Retrieving street-level imagery metadata for specific geographic areas\n",
    "3. **Interactive Visualization**: Using Folium to create interactive maps showing:\n",
    "   - Query bounding boxes\n",
    "   - Mapillary image locations as clickable markers\n",
    "   - Territory polygons for named places\n",
    "4. **Error Handling**: Graceful fallbacks when API tokens or data are unavailable\n",
    "\n",
    "### Next Steps\n",
    "\n",
    "- Experiment with different geographic areas\n",
    "- Modify the query parameters (limit, fields, etc.)\n",
    "- Try the tiled querying functionality for larger areas\n",
    "- Download actual images using the `download_all_pictures_from_gdf` function\n",
    "\n",
    "### GitHub Actions Integration\n",
    "\n",
    "This notebook is designed to run in GitHub Actions with the `API_TOKEN` secret configured. The workflow will:\n",
    "- Execute all cells automatically\n",
    "- Generate updated visualizations\n",
    "- Commit the results back to the repository\n"
   ]
  }
 ],
 "metadata": {
  "kernelspec": {
   "display_name": "Python 3",
   "language": "python",
   "name": "python3"
  },
  "language_info": {
   "codemirror_mode": {
    "name": "ipython",
    "version": 3
   },
   "file_extension": ".py",
   "mimetype": "text/x-python",
   "name": "python",
   "nbconvert_exporter": "python",
   "pygments_lexer": "ipython3",
   "version": "3.12.11"
  }
 },
 "nbformat": 4,
 "nbformat_minor": 4
}
